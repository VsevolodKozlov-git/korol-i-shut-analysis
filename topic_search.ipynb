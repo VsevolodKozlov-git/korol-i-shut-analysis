{
 "cells": [
  {
   "cell_type": "code",
   "execution_count": 1,
   "id": "initial_id",
   "metadata": {
    "collapsed": true,
    "ExecuteTime": {
     "end_time": "2024-02-28T08:06:45.291991Z",
     "start_time": "2024-02-28T08:06:42.154288900Z"
    }
   },
   "outputs": [],
   "source": [
    "import pandas as pd\n",
    "from sklearn.feature_extraction.text import TfidfVectorizer\n",
    "from sklearn.metrics.pairwise import cosine_similarity\n",
    "import numpy as np\n",
    "from scipy.sparse import save_npz\n",
    "import pickle\n",
    "from razdel import tokenize\n",
    "\n",
    "from nltk.corpus import stopwords\n",
    "import pymorphy2\n"
   ]
  },
  {
   "cell_type": "code",
   "execution_count": 2,
   "outputs": [],
   "source": [
    "def tokenize_and_base(text):\n",
    "    morph = pymorphy2.MorphAnalyzer()\n",
    "\n",
    "    russian_stopwords = set(stopwords.words('russian'))\n",
    "    additional_stopwords = {'и', 'припев', 'но', 'я', 'в', 'но', 'что', 'мой', 'свой', 'весь', 'всё', 'на', 'мы', 'c', 'a','вест','это', 'сам'}\n",
    "    russian_stopwords.update(additional_stopwords)\n",
    "    words = [i.text for i in tokenize(text)]\n",
    "    processed_words = []\n",
    "    for word in words:\n",
    "        # Remove punctuation\n",
    "        if not word.isalpha():\n",
    "            continue\n",
    "        # Remove stopwords\n",
    "        if word in russian_stopwords:\n",
    "            continue\n",
    "        # lemmatiza\n",
    "        parsed_word = morph.parse(word)[0]\n",
    "        normal_form = parsed_word.normal_form\n",
    "        # Check stopword in lematized\n",
    "        if normal_form in russian_stopwords:\n",
    "            continue\n",
    "        processed_words.append(normal_form)\n",
    "    return processed_words\n"
   ],
   "metadata": {
    "collapsed": false,
    "ExecuteTime": {
     "end_time": "2024-02-28T08:06:45.320882300Z",
     "start_time": "2024-02-28T08:06:45.305246400Z"
    }
   },
   "id": "e5fe6c01e2a0186b"
  },
  {
   "cell_type": "code",
   "execution_count": 3,
   "outputs": [],
   "source": [
    "df_songs = pd.read_csv('data_my/kish_songs_without_duplcates.csv')"
   ],
   "metadata": {
    "collapsed": false,
    "ExecuteTime": {
     "end_time": "2024-02-28T08:06:45.361197200Z",
     "start_time": "2024-02-28T08:06:45.305246400Z"
    }
   },
   "id": "916c4bebea72f72d"
  },
  {
   "cell_type": "code",
   "execution_count": 4,
   "outputs": [],
   "source": [
    "vectorizer = TfidfVectorizer(tokenizer=tokenize_and_base, token_pattern=None)\n",
    "\n",
    "corpus = vectorizer.fit_transform(df_songs['lyrics'].to_list())"
   ],
   "metadata": {
    "collapsed": false,
    "ExecuteTime": {
     "end_time": "2024-02-28T08:07:37.765631700Z",
     "start_time": "2024-02-28T08:06:45.329924100Z"
    }
   },
   "id": "31b540647d3d9cbb"
  },
  {
   "cell_type": "code",
   "execution_count": 5,
   "outputs": [],
   "source": [
    "# save vectorizer\n",
    "with open('data_my/vectorizer.pk', 'wb') as vec_file:\n",
    "    pickle.dump(vectorizer, vec_file)\n",
    "# save corpus\n",
    "save_npz('data_my/corpus.npz', corpus)"
   ],
   "metadata": {
    "collapsed": false,
    "ExecuteTime": {
     "end_time": "2024-02-28T08:07:37.842030100Z",
     "start_time": "2024-02-28T08:07:37.776629800Z"
    }
   },
   "id": "e481336323a0b238"
  },
  {
   "cell_type": "code",
   "execution_count": 14,
   "outputs": [
    {
     "data": {
      "text/plain": "0.5025617872476633"
     },
     "execution_count": 14,
     "metadata": {},
     "output_type": "execute_result"
    }
   ],
   "source": [
    "corpus[0].max()"
   ],
   "metadata": {
    "collapsed": false,
    "ExecuteTime": {
     "end_time": "2024-02-28T13:41:09.464980400Z",
     "start_time": "2024-02-28T13:41:09.423979500Z"
    }
   },
   "id": "f73c2da7fc569c99"
  },
  {
   "cell_type": "code",
   "execution_count": 9,
   "outputs": [
    {
     "data": {
      "text/plain": "                           Название  Совпадение\n70           Два Друга и Разбойники    0.205547\n43                 Песня Мушкетёров    0.110314\n37                         Собрание    0.106530\n152                 В Париж - Домой    0.099017\n172                         Бунтарь    0.072206\n197  На краю (Последняя ария Тодда)    0.065986\n115                          Рыцарь    0.062172\n47                          Карапуз    0.055436\n76                            Пират    0.050760",
      "text/html": "<div>\n<style scoped>\n    .dataframe tbody tr th:only-of-type {\n        vertical-align: middle;\n    }\n\n    .dataframe tbody tr th {\n        vertical-align: top;\n    }\n\n    .dataframe thead th {\n        text-align: right;\n    }\n</style>\n<table border=\"1\" class=\"dataframe\">\n  <thead>\n    <tr style=\"text-align: right;\">\n      <th></th>\n      <th>Название</th>\n      <th>Совпадение</th>\n    </tr>\n  </thead>\n  <tbody>\n    <tr>\n      <th>70</th>\n      <td>Два Друга и Разбойники</td>\n      <td>0.205547</td>\n    </tr>\n    <tr>\n      <th>43</th>\n      <td>Песня Мушкетёров</td>\n      <td>0.110314</td>\n    </tr>\n    <tr>\n      <th>37</th>\n      <td>Собрание</td>\n      <td>0.106530</td>\n    </tr>\n    <tr>\n      <th>152</th>\n      <td>В Париж - Домой</td>\n      <td>0.099017</td>\n    </tr>\n    <tr>\n      <th>172</th>\n      <td>Бунтарь</td>\n      <td>0.072206</td>\n    </tr>\n    <tr>\n      <th>197</th>\n      <td>На краю (Последняя ария Тодда)</td>\n      <td>0.065986</td>\n    </tr>\n    <tr>\n      <th>115</th>\n      <td>Рыцарь</td>\n      <td>0.062172</td>\n    </tr>\n    <tr>\n      <th>47</th>\n      <td>Карапуз</td>\n      <td>0.055436</td>\n    </tr>\n    <tr>\n      <th>76</th>\n      <td>Пират</td>\n      <td>0.050760</td>\n    </tr>\n  </tbody>\n</table>\n</div>"
     },
     "execution_count": 9,
     "metadata": {},
     "output_type": "execute_result"
    }
   ],
   "source": [
    "query = 'Песня о 2-х друзьях, на которых напали разбойники'\n",
    "query_vector = vectorizer.transform([query])\n",
    "similarity_matrix = cosine_similarity(query_vector, corpus)\n",
    "similarity_array = np.ravel(similarity_matrix)\n",
    "best_indexes = np.argsort(similarity_array)[::-1]\n",
    "top10_index = best_indexes[:10]\n",
    "top10_similarities = similarity_array[top10_index]\n",
    "top10_titles = df_songs.iloc[top10_index]['title']\n",
    "\n",
    "pd.DataFrame({'Название': top10_titles[1:], 'Совпадение': top10_similarities[1:]})"
   ],
   "metadata": {
    "collapsed": false,
    "ExecuteTime": {
     "end_time": "2024-02-28T08:08:48.721509300Z",
     "start_time": "2024-02-28T08:08:48.412921Z"
    }
   },
   "id": "4c780cb1cb11b8f3"
  },
  {
   "cell_type": "code",
   "execution_count": 10,
   "outputs": [
    {
     "data": {
      "text/plain": "0.0"
     },
     "execution_count": 10,
     "metadata": {},
     "output_type": "execute_result"
    }
   ],
   "source": [
    "similarity_array.min()"
   ],
   "metadata": {
    "collapsed": false,
    "ExecuteTime": {
     "end_time": "2024-02-28T08:10:09.674211500Z",
     "start_time": "2024-02-28T08:10:09.658576500Z"
    }
   },
   "id": "48072699c8a7522b"
  },
  {
   "cell_type": "code",
   "execution_count": 8,
   "outputs": [
    {
     "data": {
      "text/plain": "['Пивной Череп',\n 'Милое дело',\n 'Разговор с гоблином',\n 'Иван Факов',\n 'Паника в селе',\n 'Если Мясо Мужики',\n 'Вино Хоббитов',\n 'Наблюдатель',\n 'Мёртвый Анархист',\n 'Защитник Свиней']"
     },
     "execution_count": 8,
     "metadata": {},
     "output_type": "execute_result"
    }
   ],
   "source": [
    "top10_titles.to_list()"
   ],
   "metadata": {
    "collapsed": false,
    "ExecuteTime": {
     "end_time": "2024-02-28T07:48:48.904979800Z",
     "start_time": "2024-02-28T07:48:48.836067300Z"
    }
   },
   "id": "c48657d01af404c"
  },
  {
   "cell_type": "code",
   "execution_count": 19,
   "outputs": [
    {
     "data": {
      "text/plain": "array([  0,  97, 118,  28,  71, 170,  41, 108,  15, 223], dtype=int64)"
     },
     "execution_count": 19,
     "metadata": {},
     "output_type": "execute_result"
    }
   ],
   "source": [
    "top10_index"
   ],
   "metadata": {
    "collapsed": false,
    "ExecuteTime": {
     "end_time": "2024-02-16T14:40:30.566641Z",
     "start_time": "2024-02-16T14:40:30.558654300Z"
    }
   },
   "id": "b773331fc371f292"
  }
 ],
 "metadata": {
  "kernelspec": {
   "display_name": "Python 3",
   "language": "python",
   "name": "python3"
  },
  "language_info": {
   "codemirror_mode": {
    "name": "ipython",
    "version": 2
   },
   "file_extension": ".py",
   "mimetype": "text/x-python",
   "name": "python",
   "nbconvert_exporter": "python",
   "pygments_lexer": "ipython2",
   "version": "2.7.6"
  }
 },
 "nbformat": 4,
 "nbformat_minor": 5
}
