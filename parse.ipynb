{
 "cells": [
  {
   "cell_type": "code",
   "execution_count": 43,
   "id": "initial_id",
   "metadata": {
    "collapsed": true,
    "ExecuteTime": {
     "end_time": "2024-01-20T10:10:42.086137900Z",
     "start_time": "2024-01-20T10:10:39.429843100Z"
    }
   },
   "outputs": [],
   "source": [
    "import requests\n",
    "from bs4 import BeautifulSoup\n",
    "import re\n",
    "import pandas as pd"
   ]
  },
  {
   "cell_type": "code",
   "execution_count": 1,
   "outputs": [],
   "source": [
    "def get_soup_from_url(url):\n",
    "    \"\"\"\n",
    "    This function takes a URL as an argument, makes an HTTP request to the URL,\n",
    "    and returns a BeautifulSoup object containing the parsed HTML content of the page.\n",
    "    \n",
    "    :param url: URL of the website to fetch and parse\n",
    "    :return: BeautifulSoup object\n",
    "    \"\"\"\n",
    "    # Send an HTTP GET request to the URL\n",
    "    response = requests.get(url)\n",
    "\n",
    "    # Check if the request was successful\n",
    "    if response.status_code != 200:\n",
    "        raise Exception(f\"Error while fetching the URL: {url}. Status code: {response.status_code}\")\n",
    "\n",
    "    # Get the content of the response\n",
    "    page_content = response.content\n",
    "\n",
    "    # Create a BeautifulSoup object and specify the parser\n",
    "    soup = BeautifulSoup(page_content, 'html.parser')\n",
    "\n",
    "    return soup"
   ],
   "metadata": {
    "collapsed": false,
    "ExecuteTime": {
     "end_time": "2024-01-20T08:01:54.171536200Z",
     "start_time": "2024-01-20T08:01:54.149894600Z"
    }
   },
   "id": "c7d5bc256b58efeb"
  },
  {
   "cell_type": "code",
   "execution_count": 40,
   "outputs": [
    {
     "name": "stdout",
     "output_type": "stream",
     "text": [
      "Припев:\n",
      "\n",
      "Я ведь не из робких,\n",
      "Все мне по плечу.\n",
      "Сильный я и ловкий,\n",
      "Ветра проучу!\n",
      "\n",
      "Дул сильный ветер, крыши рвал.\n",
      "И, несмотря на поздний час,\n",
      "В округе вряд ли кто-то спал -\n",
      "Стихия не на шутку разошлась.\n",
      "\n",
      "Но вдруг какой-то парень с криком побежал\n",
      "И принялся махать метлой:\n",
      "\"Ах, ветер, негодяй, ты спать мне помешал,\n",
      "А ну-ка выходи на бой!\"\n",
      "\n",
      "(Припев)\n",
      "\n",
      "И ветер закружился, заметался\n",
      "И ели начал с корнем рвать:\n",
      "\"Откуда этот сумасшедший взялся,\n",
      "Что хочет с ветром воевать\".\n",
      "\n",
      "Но парень не сдавался и метлой махал,\n",
      "И удалялся вглубь полей.\n",
      "И впрямь неплохо с ветром воевал,\n",
      "А ветер становился злей...\n",
      "\n",
      "(Припев)\n",
      "\n",
      "Но вдруг метла со свистом улетела прочь\n",
      "И храбрый парень вслед за ней.\n",
      "А после этого спокойней стала ночь -\n",
      "Исчез во мраке дуралей.\n",
      "\n",
      "Его под утро пастухи нашли в стогу -\n",
      "Он очень крепко спал,\n",
      "А ветер песни напевал ему\n",
      "И кудри ласково трепал.\n",
      "\n",
      "(Припев)  \n"
     ]
    }
   ],
   "source": [
    "def get_lyrics(lyrics_url):\n",
    "    soup = get_soup_from_url(lyrics_url)\n",
    "    lyrics_tag = soup.select_one('body > div.container.mt-4.mb-5 > main > div.col-md-8 > article')\n",
    "    paragraphs = lyrics_tag.find_all('p')\n",
    "    stanzas = []\n",
    "    \n",
    "    for paragraph in paragraphs:\n",
    "        for br in paragraph.find_all('br'):\n",
    "            br.replace_with('\\n')\n",
    "        stanzas.append(paragraph.text)\n",
    "    \n",
    "    lyrics = '\\n\\n'.join(stanzas)\n",
    "    return lyrics\n",
    "print(get_lyrics('https://korol-i-shut.su/songs/text/smelchak-i-veter.html'))"
   ],
   "metadata": {
    "collapsed": false,
    "ExecuteTime": {
     "end_time": "2024-01-20T10:06:48.692105Z",
     "start_time": "2024-01-20T10:06:47.867296300Z"
    }
   },
   "id": "709a18d73eb996a0"
  },
  {
   "cell_type": "code",
   "execution_count": 56,
   "outputs": [],
   "source": [
    "def get_song_dicts_from_album(album_url, album_id):\n",
    "    soup = get_soup_from_url(album_url)\n",
    "    parent_element = soup.select_one('body > div.container.mt-4.mb-5 > main > div.col-md-8')\n",
    "    if parent_element is None:\n",
    "        raise Exception(\"Нельзя найти тег, в котором содержатся песни\")\n",
    "    songs_h2 = soup.find_all('h2')\n",
    "    song_dicts = []\n",
    "    for song_h2 in songs_h2:\n",
    "        song_a = song_h2.find('a')\n",
    "        if song_a:\n",
    "            text = song_a.text\n",
    "            song_url = song_a.get('href')\n",
    "            \n",
    "            song_name = ' '.join(text.split())\n",
    "            lyrics = get_lyrics(song_url)\n",
    "        else:\n",
    "            text = song_h2.text\n",
    "            # remove song serial number\n",
    "            splited = text.split()\n",
    "            song_name = ' '.join(splited[1:])\n",
    "            lyrics = ''\n",
    "            \n",
    "        song_dict = {'title': song_name,\n",
    "                     'lyrics': lyrics,\n",
    "                     'album_id': album_id}\n",
    "        song_dicts.append(song_dict)\n",
    "    return song_dicts "
   ],
   "metadata": {
    "collapsed": false,
    "ExecuteTime": {
     "end_time": "2024-01-20T10:35:01.410362200Z",
     "start_time": "2024-01-20T10:35:01.388710200Z"
    }
   },
   "id": "57836387eff4ae2f"
  },
  {
   "cell_type": "code",
   "execution_count": 57,
   "outputs": [
    {
     "data": {
      "text/plain": "('Камнем по Голове', 1996)"
     },
     "execution_count": 57,
     "metadata": {},
     "output_type": "execute_result"
    }
   ],
   "source": [
    "def get_album_name_year(album_text):\n",
    "    parts = album_text.split()\n",
    "    album_name_words = []\n",
    "    album_year = None\n",
    "    for part in parts:\n",
    "        is_year = re.search(r'^\\((\\d+)\\)$',  part)\n",
    "        if is_year:\n",
    "            album_year = int(is_year.groups()[0])\n",
    "        else:\n",
    "            album_name_words.append(part)\n",
    "    album_name = ' '.join(album_name_words)\n",
    "    return album_name, album_year\n",
    "\n",
    "get_album_name_year('\\nКамнем по Голове\\n                (1996)\\n            ')"
   ],
   "metadata": {
    "collapsed": false,
    "ExecuteTime": {
     "end_time": "2024-01-20T10:35:02.401016200Z",
     "start_time": "2024-01-20T10:35:02.383155Z"
    }
   },
   "id": "df25ed470dd5960a"
  },
  {
   "cell_type": "code",
   "execution_count": 59,
   "outputs": [],
   "source": [
    "error_h2s = []\n",
    "\n",
    "def get_album_dicts():\n",
    "    \n",
    "    soup = get_soup_from_url('https://korol-i-shut.su/albums/')\n",
    "    parent_element = soup.select_one('body > div.container.mt-4.mb-5 > main > div')\n",
    "    if not parent_element:\n",
    "        raise Exception('Альбомы не найдены ')\n",
    "    \n",
    "    album_dicts = []\n",
    "    h2_tags = parent_element.find_all('h2')\n",
    "    # Iterate over each 'h2' tag\n",
    "    for album_id, album_h2 in enumerate(h2_tags):\n",
    "        try:\n",
    "            album_text = album_h2.text\n",
    "            album_name, album_year = get_album_name_year(album_text)\n",
    "            album_a = album_h2.find('a')\n",
    "            album_url = album_a.get('href')\n",
    "            song_dicts = get_song_dicts_from_album(album_url, album_id)\n",
    "            album_dict = {\n",
    "                'title': album_name,\n",
    "                'year': album_year,\n",
    "                'album_id': album_id, \n",
    "                'songs': song_dicts\n",
    "            }\n",
    "            album_dicts.append(album_dict)\n",
    "        except Exception as e:\n",
    "            error_h2s.append({\n",
    "                'h2': album_h2,\n",
    "                'error': e\n",
    "            })\n",
    "    return  album_dicts\n"
   ],
   "metadata": {
    "collapsed": false,
    "ExecuteTime": {
     "end_time": "2024-01-20T10:35:17.882425600Z",
     "start_time": "2024-01-20T10:35:17.858790100Z"
    }
   },
   "id": "4827af909d272a77"
  },
  {
   "cell_type": "code",
   "execution_count": 60,
   "outputs": [],
   "source": [
    "album_dicts = get_album_dicts()"
   ],
   "metadata": {
    "collapsed": false,
    "ExecuteTime": {
     "end_time": "2024-01-20T10:39:25.451430800Z",
     "start_time": "2024-01-20T10:35:18.618364800Z"
    }
   },
   "id": "8f4e28721c276de9"
  },
  {
   "cell_type": "code",
   "execution_count": 62,
   "outputs": [],
   "source": [
    "from copy import deepcopy\n",
    "songs_arr_for_df = []\n",
    "albums_arr_for_df = []\n",
    "for album_dict in album_dicts:\n",
    "    album_dict = deepcopy(album_dict)\n",
    "    songs_arr_for_df.extend(album_dict['songs'])\n",
    "    del album_dict['songs']\n",
    "    albums_arr_for_df.append(album_dict)\n",
    "    \n",
    "songs_df = pd.DataFrame(songs_arr_for_df)\n",
    "albums_df = pd.DataFrame(albums_arr_for_df)"
   ],
   "metadata": {
    "collapsed": false,
    "ExecuteTime": {
     "end_time": "2024-01-20T10:39:31.859110200Z",
     "start_time": "2024-01-20T10:39:31.826471400Z"
    }
   },
   "id": "9a664005cc16f299"
  },
  {
   "cell_type": "code",
   "execution_count": 63,
   "outputs": [
    {
     "data": {
      "text/plain": "                    title                                             lyrics  \\\n0        Смельчак и Ветер  Припев:\\n\\nЯ ведь не из робких,\\nВсе мне по пл...   \n1      Проказник Скоморох  На свадьбе скоморох,\\nБыл прытким как горох.\\n...   \n2             Верная Жена  Дождливой ночью парень, выбравшись из леса\\nВд...   \n3                Садовник  Целый вечер нет покоя парню от его сестер:\\n\"Т...   \n4           Блуждают Тени  Какой таинственной казалась мне та ночь,\\nЯ за...   \n..                    ...                                                ...   \n307  Проклятый старый дом  В заросшем парке\\nСтоит старинный дом.\\nЗабиты...   \n308       Прыгну со скалы  С головы сорвал ветер мой колпак,\\nЯ хотел люб...   \n309      Внезапная голова  Услыхал мужик под вечер вдруг,\\nВ свою дверь к...   \n310      Мёртвый анархист  Ослепший старый маг\\nНочью по лесу бродил.\\nНа...   \n311       Забытые ботинки  Уставшим путником войду в твою я спальню.\\nБез...   \n\n     album_id  \n0           0  \n1           0  \n2           0  \n3           0  \n4           0  \n..        ...  \n307        17  \n308        17  \n309        17  \n310        17  \n311        17  \n\n[312 rows x 3 columns]",
      "text/html": "<div>\n<style scoped>\n    .dataframe tbody tr th:only-of-type {\n        vertical-align: middle;\n    }\n\n    .dataframe tbody tr th {\n        vertical-align: top;\n    }\n\n    .dataframe thead th {\n        text-align: right;\n    }\n</style>\n<table border=\"1\" class=\"dataframe\">\n  <thead>\n    <tr style=\"text-align: right;\">\n      <th></th>\n      <th>title</th>\n      <th>lyrics</th>\n      <th>album_id</th>\n    </tr>\n  </thead>\n  <tbody>\n    <tr>\n      <th>0</th>\n      <td>Смельчак и Ветер</td>\n      <td>Припев:\\n\\nЯ ведь не из робких,\\nВсе мне по пл...</td>\n      <td>0</td>\n    </tr>\n    <tr>\n      <th>1</th>\n      <td>Проказник Скоморох</td>\n      <td>На свадьбе скоморох,\\nБыл прытким как горох.\\n...</td>\n      <td>0</td>\n    </tr>\n    <tr>\n      <th>2</th>\n      <td>Верная Жена</td>\n      <td>Дождливой ночью парень, выбравшись из леса\\nВд...</td>\n      <td>0</td>\n    </tr>\n    <tr>\n      <th>3</th>\n      <td>Садовник</td>\n      <td>Целый вечер нет покоя парню от его сестер:\\n\"Т...</td>\n      <td>0</td>\n    </tr>\n    <tr>\n      <th>4</th>\n      <td>Блуждают Тени</td>\n      <td>Какой таинственной казалась мне та ночь,\\nЯ за...</td>\n      <td>0</td>\n    </tr>\n    <tr>\n      <th>...</th>\n      <td>...</td>\n      <td>...</td>\n      <td>...</td>\n    </tr>\n    <tr>\n      <th>307</th>\n      <td>Проклятый старый дом</td>\n      <td>В заросшем парке\\nСтоит старинный дом.\\nЗабиты...</td>\n      <td>17</td>\n    </tr>\n    <tr>\n      <th>308</th>\n      <td>Прыгну со скалы</td>\n      <td>С головы сорвал ветер мой колпак,\\nЯ хотел люб...</td>\n      <td>17</td>\n    </tr>\n    <tr>\n      <th>309</th>\n      <td>Внезапная голова</td>\n      <td>Услыхал мужик под вечер вдруг,\\nВ свою дверь к...</td>\n      <td>17</td>\n    </tr>\n    <tr>\n      <th>310</th>\n      <td>Мёртвый анархист</td>\n      <td>Ослепший старый маг\\nНочью по лесу бродил.\\nНа...</td>\n      <td>17</td>\n    </tr>\n    <tr>\n      <th>311</th>\n      <td>Забытые ботинки</td>\n      <td>Уставшим путником войду в твою я спальню.\\nБез...</td>\n      <td>17</td>\n    </tr>\n  </tbody>\n</table>\n<p>312 rows × 3 columns</p>\n</div>"
     },
     "execution_count": 63,
     "metadata": {},
     "output_type": "execute_result"
    }
   ],
   "source": [
    "songs_df"
   ],
   "metadata": {
    "collapsed": false,
    "ExecuteTime": {
     "end_time": "2024-01-20T10:39:35.201652300Z",
     "start_time": "2024-01-20T10:39:35.188406600Z"
    }
   },
   "id": "2b4eb496b05d4a99"
  },
  {
   "cell_type": "code",
   "execution_count": 64,
   "outputs": [
    {
     "data": {
      "text/plain": "                               title  year  album_id\n0                   Камнем по Голове  1996         0\n1                       Король и Шут  1996         1\n2                Акустический альбом  1999         2\n3                    Ели Мясо Мужики  1999         3\n4                     Герои и Злодеи  2000         4\n5                           Собрание  2000         5\n6                Как в старой сказке  2001         6\n7                   Жаль, нет ружья!  2002         7\n8                   Мёртвый Анархист  2003         8\n9                    Бунт на корабле  2004         9\n10              Я Алкоголик Анархист  2004        10\n11                 Продавец Кошмаров  2006        11\n12                   Cтрашные Сказки  2007        12\n13                       Тень Клоуна  2008        13\n14                      Театр Демона  2010        14\n15    TODD - Акт 1. «Праздник Крови»  2011        15\n16           TODD - Акт 2. «На Краю»  2012        16\n17  Саундтрек к сериалу Король и Шут  2023        17",
      "text/html": "<div>\n<style scoped>\n    .dataframe tbody tr th:only-of-type {\n        vertical-align: middle;\n    }\n\n    .dataframe tbody tr th {\n        vertical-align: top;\n    }\n\n    .dataframe thead th {\n        text-align: right;\n    }\n</style>\n<table border=\"1\" class=\"dataframe\">\n  <thead>\n    <tr style=\"text-align: right;\">\n      <th></th>\n      <th>title</th>\n      <th>year</th>\n      <th>album_id</th>\n    </tr>\n  </thead>\n  <tbody>\n    <tr>\n      <th>0</th>\n      <td>Камнем по Голове</td>\n      <td>1996</td>\n      <td>0</td>\n    </tr>\n    <tr>\n      <th>1</th>\n      <td>Король и Шут</td>\n      <td>1996</td>\n      <td>1</td>\n    </tr>\n    <tr>\n      <th>2</th>\n      <td>Акустический альбом</td>\n      <td>1999</td>\n      <td>2</td>\n    </tr>\n    <tr>\n      <th>3</th>\n      <td>Ели Мясо Мужики</td>\n      <td>1999</td>\n      <td>3</td>\n    </tr>\n    <tr>\n      <th>4</th>\n      <td>Герои и Злодеи</td>\n      <td>2000</td>\n      <td>4</td>\n    </tr>\n    <tr>\n      <th>5</th>\n      <td>Собрание</td>\n      <td>2000</td>\n      <td>5</td>\n    </tr>\n    <tr>\n      <th>6</th>\n      <td>Как в старой сказке</td>\n      <td>2001</td>\n      <td>6</td>\n    </tr>\n    <tr>\n      <th>7</th>\n      <td>Жаль, нет ружья!</td>\n      <td>2002</td>\n      <td>7</td>\n    </tr>\n    <tr>\n      <th>8</th>\n      <td>Мёртвый Анархист</td>\n      <td>2003</td>\n      <td>8</td>\n    </tr>\n    <tr>\n      <th>9</th>\n      <td>Бунт на корабле</td>\n      <td>2004</td>\n      <td>9</td>\n    </tr>\n    <tr>\n      <th>10</th>\n      <td>Я Алкоголик Анархист</td>\n      <td>2004</td>\n      <td>10</td>\n    </tr>\n    <tr>\n      <th>11</th>\n      <td>Продавец Кошмаров</td>\n      <td>2006</td>\n      <td>11</td>\n    </tr>\n    <tr>\n      <th>12</th>\n      <td>Cтрашные Сказки</td>\n      <td>2007</td>\n      <td>12</td>\n    </tr>\n    <tr>\n      <th>13</th>\n      <td>Тень Клоуна</td>\n      <td>2008</td>\n      <td>13</td>\n    </tr>\n    <tr>\n      <th>14</th>\n      <td>Театр Демона</td>\n      <td>2010</td>\n      <td>14</td>\n    </tr>\n    <tr>\n      <th>15</th>\n      <td>TODD - Акт 1. «Праздник Крови»</td>\n      <td>2011</td>\n      <td>15</td>\n    </tr>\n    <tr>\n      <th>16</th>\n      <td>TODD - Акт 2. «На Краю»</td>\n      <td>2012</td>\n      <td>16</td>\n    </tr>\n    <tr>\n      <th>17</th>\n      <td>Саундтрек к сериалу Король и Шут</td>\n      <td>2023</td>\n      <td>17</td>\n    </tr>\n  </tbody>\n</table>\n</div>"
     },
     "execution_count": 64,
     "metadata": {},
     "output_type": "execute_result"
    }
   ],
   "source": [
    "albums_df"
   ],
   "metadata": {
    "collapsed": false,
    "ExecuteTime": {
     "end_time": "2024-01-20T10:40:06.224257900Z",
     "start_time": "2024-01-20T10:40:06.203329800Z"
    }
   },
   "id": "347c90fd84c2b2fc"
  },
  {
   "cell_type": "code",
   "execution_count": 71,
   "outputs": [],
   "source": [
    "\n",
    "albums_df.to_csv('data/kish_albums.csv', index=False)"
   ],
   "metadata": {
    "collapsed": false,
    "ExecuteTime": {
     "end_time": "2024-01-20T10:44:15.232699600Z",
     "start_time": "2024-01-20T10:44:15.209474400Z"
    }
   },
   "id": "e452510e7828db44"
  },
  {
   "cell_type": "code",
   "execution_count": 72,
   "outputs": [],
   "source": [
    "songs_df.to_csv('data/kish_songs.csv', index=False, header=True)"
   ],
   "metadata": {
    "collapsed": false,
    "ExecuteTime": {
     "end_time": "2024-01-20T10:44:39.039982800Z",
     "start_time": "2024-01-20T10:44:39.005632600Z"
    }
   },
   "id": "913b31bb141ccb85"
  },
  {
   "cell_type": "code",
   "execution_count": 73,
   "outputs": [
    {
     "data": {
      "text/plain": "                    title                                             lyrics  \\\n0        Смельчак и Ветер  Припев:\\n\\nЯ ведь не из робких,\\nВсе мне по пл...   \n1      Проказник Скоморох  На свадьбе скоморох,\\nБыл прытким как горох.\\n...   \n2             Верная Жена  Дождливой ночью парень, выбравшись из леса\\nВд...   \n3                Садовник  Целый вечер нет покоя парню от его сестер:\\n\"Т...   \n4           Блуждают Тени  Какой таинственной казалась мне та ночь,\\nЯ за...   \n..                    ...                                                ...   \n307  Проклятый старый дом  В заросшем парке\\nСтоит старинный дом.\\nЗабиты...   \n308       Прыгну со скалы  С головы сорвал ветер мой колпак,\\nЯ хотел люб...   \n309      Внезапная голова  Услыхал мужик под вечер вдруг,\\nВ свою дверь к...   \n310      Мёртвый анархист  Ослепший старый маг\\nНочью по лесу бродил.\\nНа...   \n311       Забытые ботинки  Уставшим путником войду в твою я спальню.\\nБез...   \n\n     album_id  \n0           0  \n1           0  \n2           0  \n3           0  \n4           0  \n..        ...  \n307        17  \n308        17  \n309        17  \n310        17  \n311        17  \n\n[312 rows x 3 columns]",
      "text/html": "<div>\n<style scoped>\n    .dataframe tbody tr th:only-of-type {\n        vertical-align: middle;\n    }\n\n    .dataframe tbody tr th {\n        vertical-align: top;\n    }\n\n    .dataframe thead th {\n        text-align: right;\n    }\n</style>\n<table border=\"1\" class=\"dataframe\">\n  <thead>\n    <tr style=\"text-align: right;\">\n      <th></th>\n      <th>title</th>\n      <th>lyrics</th>\n      <th>album_id</th>\n    </tr>\n  </thead>\n  <tbody>\n    <tr>\n      <th>0</th>\n      <td>Смельчак и Ветер</td>\n      <td>Припев:\\n\\nЯ ведь не из робких,\\nВсе мне по пл...</td>\n      <td>0</td>\n    </tr>\n    <tr>\n      <th>1</th>\n      <td>Проказник Скоморох</td>\n      <td>На свадьбе скоморох,\\nБыл прытким как горох.\\n...</td>\n      <td>0</td>\n    </tr>\n    <tr>\n      <th>2</th>\n      <td>Верная Жена</td>\n      <td>Дождливой ночью парень, выбравшись из леса\\nВд...</td>\n      <td>0</td>\n    </tr>\n    <tr>\n      <th>3</th>\n      <td>Садовник</td>\n      <td>Целый вечер нет покоя парню от его сестер:\\n\"Т...</td>\n      <td>0</td>\n    </tr>\n    <tr>\n      <th>4</th>\n      <td>Блуждают Тени</td>\n      <td>Какой таинственной казалась мне та ночь,\\nЯ за...</td>\n      <td>0</td>\n    </tr>\n    <tr>\n      <th>...</th>\n      <td>...</td>\n      <td>...</td>\n      <td>...</td>\n    </tr>\n    <tr>\n      <th>307</th>\n      <td>Проклятый старый дом</td>\n      <td>В заросшем парке\\nСтоит старинный дом.\\nЗабиты...</td>\n      <td>17</td>\n    </tr>\n    <tr>\n      <th>308</th>\n      <td>Прыгну со скалы</td>\n      <td>С головы сорвал ветер мой колпак,\\nЯ хотел люб...</td>\n      <td>17</td>\n    </tr>\n    <tr>\n      <th>309</th>\n      <td>Внезапная голова</td>\n      <td>Услыхал мужик под вечер вдруг,\\nВ свою дверь к...</td>\n      <td>17</td>\n    </tr>\n    <tr>\n      <th>310</th>\n      <td>Мёртвый анархист</td>\n      <td>Ослепший старый маг\\nНочью по лесу бродил.\\nНа...</td>\n      <td>17</td>\n    </tr>\n    <tr>\n      <th>311</th>\n      <td>Забытые ботинки</td>\n      <td>Уставшим путником войду в твою я спальню.\\nБез...</td>\n      <td>17</td>\n    </tr>\n  </tbody>\n</table>\n<p>312 rows × 3 columns</p>\n</div>"
     },
     "execution_count": 73,
     "metadata": {},
     "output_type": "execute_result"
    }
   ],
   "source": [
    "pd.read_csv('data/kish_songs.csv')"
   ],
   "metadata": {
    "collapsed": false,
    "ExecuteTime": {
     "end_time": "2024-01-20T10:46:06.010448800Z",
     "start_time": "2024-01-20T10:46:05.966991Z"
    }
   },
   "id": "8cb8c64310c8eac2"
  },
  {
   "cell_type": "code",
   "execution_count": 77,
   "outputs": [
    {
     "name": "stdout",
     "output_type": "stream",
     "text": [
      "None\n"
     ]
    }
   ],
   "source": [
    "res = re.match(r'o', 'Hello world')\n",
    "print(res)"
   ],
   "metadata": {
    "collapsed": false,
    "ExecuteTime": {
     "end_time": "2024-01-20T20:03:57.816049400Z",
     "start_time": "2024-01-20T20:03:57.808445500Z"
    }
   },
   "id": "f3c8e12b5f2e12f8"
  },
  {
   "cell_type": "code",
   "execution_count": 82,
   "outputs": [
    {
     "name": "stdout",
     "output_type": "stream",
     "text": [
      "<re.Match object; span=(4, 5), match='o'>\n"
     ]
    }
   ],
   "source": [
    "res = re.search(r'o', 'Hello world')\n",
    "print(res)"
   ],
   "metadata": {
    "collapsed": false,
    "ExecuteTime": {
     "end_time": "2024-01-20T20:04:50.165981400Z",
     "start_time": "2024-01-20T20:04:50.158980900Z"
    }
   },
   "id": "d62858ea5f2192f7"
  },
  {
   "cell_type": "code",
   "execution_count": 102,
   "outputs": [
    {
     "data": {
      "text/plain": "[('oo', 'ww'), ('o', 'w')]"
     },
     "execution_count": 102,
     "metadata": {},
     "output_type": "execute_result"
    }
   ],
   "source": [
    "re.findall('(o+)(w+)', 'oowwkow')"
   ],
   "metadata": {
    "collapsed": false,
    "ExecuteTime": {
     "end_time": "2024-01-20T20:11:59.904449300Z",
     "start_time": "2024-01-20T20:11:59.897738200Z"
    }
   },
   "id": "80ee13ef1c2081a7"
  },
  {
   "cell_type": "code",
   "execution_count": 104,
   "outputs": [
    {
     "data": {
      "text/plain": "[('oo', 'ww'), ('o', 'w')]"
     },
     "execution_count": 104,
     "metadata": {},
     "output_type": "execute_result"
    }
   ],
   "source": [
    "re.findall('(o+)(w+)', 'oowwkow')"
   ],
   "metadata": {
    "collapsed": false,
    "ExecuteTime": {
     "end_time": "2024-01-20T20:13:18.668104500Z",
     "start_time": "2024-01-20T20:13:18.657760600Z"
    }
   },
   "id": "4bbf11e1b78eb734"
  },
  {
   "cell_type": "code",
   "execution_count": 84,
   "outputs": [
    {
     "data": {
      "text/plain": "[('oo', 'www'), ('o', 'w')]"
     },
     "execution_count": 84,
     "metadata": {},
     "output_type": "execute_result"
    }
   ],
   "source": [
    "re.findall('(?P<os>o+)(?P<ws>w+)', 'oowwkow')"
   ],
   "metadata": {
    "collapsed": false,
    "ExecuteTime": {
     "end_time": "2024-01-20T20:07:46.992667Z",
     "start_time": "2024-01-20T20:07:46.987593100Z"
    }
   },
   "id": "6d2b2bdb4f656022"
  },
  {
   "cell_type": "code",
   "execution_count": 103,
   "outputs": [
    {
     "data": {
      "text/plain": "{'os': 'oo', 'ws': 'ww'}"
     },
     "execution_count": 103,
     "metadata": {},
     "output_type": "execute_result"
    }
   ],
   "source": [
    "re.match('(?P<os>o+)(?P<ws>w+)', 'oowwkow').groupdict()"
   ],
   "metadata": {
    "collapsed": false,
    "ExecuteTime": {
     "end_time": "2024-01-20T20:12:08.280847900Z",
     "start_time": "2024-01-20T20:12:08.247625900Z"
    }
   },
   "id": "2a8339edc749ee4c"
  },
  {
   "cell_type": "code",
   "execution_count": 98,
   "outputs": [
    {
     "data": {
      "text/plain": "{'os': 'oo', 'ws': 'www'}"
     },
     "execution_count": 98,
     "metadata": {},
     "output_type": "execute_result"
    }
   ],
   "source": [
    "re.search('(?P<os>o+)(?P<ws>w+)', 'oowwwkkooww').groupdict()"
   ],
   "metadata": {
    "collapsed": false,
    "ExecuteTime": {
     "end_time": "2024-01-20T20:10:55.067395100Z",
     "start_time": "2024-01-20T20:10:55.052918800Z"
    }
   },
   "id": "f7d4d322c5c4ff02"
  },
  {
   "cell_type": "code",
   "execution_count": 79,
   "outputs": [
    {
     "data": {
      "text/plain": "['o', 'o']"
     },
     "execution_count": 79,
     "metadata": {},
     "output_type": "execute_result"
    }
   ],
   "source": [
    "res = re.findall(r'o', 'Hello world')\n",
    "res"
   ],
   "metadata": {
    "collapsed": false,
    "ExecuteTime": {
     "end_time": "2024-01-20T20:04:20.702491900Z",
     "start_time": "2024-01-20T20:04:20.702491900Z"
    }
   },
   "id": "98d0866483a2386f"
  }
 ],
 "metadata": {
  "kernelspec": {
   "display_name": "Python 3",
   "language": "python",
   "name": "python3"
  },
  "language_info": {
   "codemirror_mode": {
    "name": "ipython",
    "version": 2
   },
   "file_extension": ".py",
   "mimetype": "text/x-python",
   "name": "python",
   "nbconvert_exporter": "python",
   "pygments_lexer": "ipython2",
   "version": "2.7.6"
  }
 },
 "nbformat": 4,
 "nbformat_minor": 5
}
